{
 "cells": [
  {
   "cell_type": "code",
   "execution_count": 3,
   "id": "c2f8af21-3bfd-4859-86c2-7c7eef19d6a0",
   "metadata": {},
   "outputs": [
    {
     "name": "stderr",
     "output_type": "stream",
     "text": [
      "C:\\Users\\user\\Documents\\10acadamy\\week_two\\scripts\\load_data.py:38: UserWarning: pandas only supports SQLAlchemy connectable (engine/connection) or database string URI or sqlite3 DBAPI2 connection. Other DBAPI2 objects are not tested. Please consider using SQLAlchemy.\n",
      "  df = pd.read_sql_query(query, connection)\n"
     ]
    },
    {
     "name": "stdout",
     "output_type": "stream",
     "text": [
      "An error occurred: Execution failed on sql '\n",
      "    SELECT customer_id, session_frequency, session_duration, total_traffic, satisfaction_score\n",
      "    FROM customer_data\n",
      "    ': relation \"customer_data\" does not exist\n",
      "LINE 3:     FROM customer_data\n",
      "                 ^\n",
      "\n"
     ]
    },
    {
     "ename": "AttributeError",
     "evalue": "'NoneType' object has no attribute 'head'",
     "output_type": "error",
     "traceback": [
      "\u001b[1;31m---------------------------------------------------------------------------\u001b[0m",
      "\u001b[1;31mAttributeError\u001b[0m                            Traceback (most recent call last)",
      "Cell \u001b[1;32mIn[3], line 21\u001b[0m\n\u001b[0;32m     18\u001b[0m     \u001b[38;5;28;01mreturn\u001b[39;00m df\n\u001b[0;32m     20\u001b[0m df_user_engagement \u001b[38;5;241m=\u001b[39m load_user_engagement_data()\n\u001b[1;32m---> 21\u001b[0m df_user_engagement\u001b[38;5;241m.\u001b[39mhead()\n\u001b[0;32m     23\u001b[0m \u001b[38;5;66;03m# Cell 3: Data Preprocessing\u001b[39;00m\n\u001b[0;32m     24\u001b[0m \u001b[38;5;28;01mdef\u001b[39;00m \u001b[38;5;21mpreprocess_data\u001b[39m(df):\n",
      "\u001b[1;31mAttributeError\u001b[0m: 'NoneType' object has no attribute 'head'"
     ]
    }
   ],
   "source": [
    "# User_Engagement_Analysis.ipynb\n",
    "\n",
    "# Cell 1: Import Required Libraries\n",
    "import pandas as pd\n",
    "from sklearn.preprocessing import StandardScaler\n",
    "from sklearn.linear_model import LinearRegression\n",
    "import matplotlib.pyplot as plt\n",
    "import seaborn as sns\n",
    "from load_data import load_data_from_postgres\n",
    "\n",
    "# Cell 2: Load User Engagement Data\n",
    "def load_user_engagement_data():\n",
    "    query = '''\n",
    "    SELECT customer_id, session_frequency, session_duration, total_traffic, satisfaction_score\n",
    "    FROM customer_data\n",
    "    '''\n",
    "    df = load_data_from_postgres(query)\n",
    "    return df\n",
    "\n",
    "df_user_engagement = load_user_engagement_data()\n",
    "df_user_engagement.head()\n",
    "\n",
    "# Cell 3: Data Preprocessing\n",
    "def preprocess_data(df):\n",
    "    print(\"Missing values:\")\n",
    "    print(df.isnull().sum())\n",
    "    \n",
    "    # Fill missing values with forward fill\n",
    "    df.fillna(method='ffill', inplace=True)\n",
    "    return df\n",
    "\n",
    "df_user_engagement = preprocess_data(df_user_engagement)\n",
    "\n",
    "# Cell 4: Feature Scaling & Linear Regression\n",
    "def perform_linear_regression(df):\n",
    "    scaler = StandardScaler()\n",
    "    X = scaler.fit_transform(df[['session_frequency', 'session_duration', 'total_traffic']])\n",
    "    \n",
    "    y_reg = df['satisfaction_score']\n",
    "    model = LinearRegression()\n",
    "    model.fit(X, y_reg)\n",
    "    \n",
    "    print(\"Regression Coefficients:\", model.coef_)\n",
    "    \n",
    "    return model\n",
    "\n",
    "model = perform_linear_regression(df_user_engagement)\n",
    "\n",
    "# Cell 5: Visualization - Engagement Metrics Distribution\n",
    "def plot_engagement_distribution(df):\n",
    "    sns.pairplot(df[['session_frequency', 'session_duration', 'total_traffic', 'satisfaction_score']])\n",
    "    plt.title('User Engagement Metrics Distribution')\n",
    "    plt.show()\n",
    "\n",
    "plot_engagement_distribution(df_user_engagement)\n"
   ]
  },
  {
   "cell_type": "code",
   "execution_count": null,
   "id": "5866b86a-8935-4bf5-848f-034e6a3ac3ea",
   "metadata": {},
   "outputs": [],
   "source": []
  }
 ],
 "metadata": {
  "kernelspec": {
   "display_name": "Python 3 (ipykernel)",
   "language": "python",
   "name": "python3"
  },
  "language_info": {
   "codemirror_mode": {
    "name": "ipython",
    "version": 3
   },
   "file_extension": ".py",
   "mimetype": "text/x-python",
   "name": "python",
   "nbconvert_exporter": "python",
   "pygments_lexer": "ipython3",
   "version": "3.12.3"
  }
 },
 "nbformat": 4,
 "nbformat_minor": 5
}
