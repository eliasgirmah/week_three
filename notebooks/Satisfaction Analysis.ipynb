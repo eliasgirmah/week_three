{
 "cells": [
  {
   "cell_type": "code",
   "execution_count": 6,
   "id": "a150484b-a41e-4c06-9ae2-5619189b160c",
   "metadata": {},
   "outputs": [
    {
     "name": "stdout",
     "output_type": "stream",
     "text": [
      "        user_id  session_frequency  session_duration  total_traffic\n",
      "0  2.082018e+14                  2          140845.0   1.276832e+09\n",
      "1  2.082014e+14                  1           85950.0   8.926375e+08\n",
      "2           NaN                  9        37507441.0   2.815223e+11\n",
      "3  2.082014e+14                  1           26612.0   3.209849e+08\n",
      "4  2.082003e+14                  1           51265.0   5.779483e+08\n",
      "      Bearer Id            Start  Start ms              End  End ms  \\\n",
      "0  1.311448e+19   4/4/2019 12:01     770.0  4/25/2019 14:35   662.0   \n",
      "1  1.311448e+19   4/9/2019 13:04     235.0   4/25/2019 8:15   606.0   \n",
      "2  1.311448e+19   4/9/2019 17:42       1.0  4/25/2019 11:58   652.0   \n",
      "3  1.311448e+19   4/10/2019 0:31     486.0   4/25/2019 7:36   171.0   \n",
      "4  1.311448e+19  4/12/2019 20:10     565.0  4/25/2019 10:40   954.0   \n",
      "\n",
      "   Dur. (ms)          IMSI  MSISDN/Number          IMEI  \\\n",
      "0  1823652.0  2.082014e+14   3.366496e+10  3.552121e+13   \n",
      "1  1365104.0  2.082019e+14   3.368185e+10  3.579401e+13   \n",
      "2  1361762.0  2.082003e+14   3.376063e+10  3.528151e+13   \n",
      "3  1321509.0  2.082014e+14   3.375034e+10  3.535661e+13   \n",
      "4  1089009.0  2.082014e+14   3.369980e+10  3.540701e+13   \n",
      "\n",
      "      Last Location Name  ...  Youtube DL (Bytes)  Youtube UL (Bytes)  \\\n",
      "0  9.16456699548519E+015  ...          15854611.0           2501332.0   \n",
      "1                L77566A  ...          20247395.0          19111729.0   \n",
      "2                D42335A  ...          19725661.0          14699576.0   \n",
      "3                T21824A  ...          21388122.0          15146643.0   \n",
      "4                D88865A  ...          15259380.0          18962873.0   \n",
      "\n",
      "   Netflix DL (Bytes)  Netflix UL (Bytes)  Gaming DL (Bytes)  \\\n",
      "0           8198936.0           9656251.0        278082303.0   \n",
      "1          18338413.0          17227132.0        608750074.0   \n",
      "2          17587794.0           6163408.0        229584621.0   \n",
      "3          13994646.0           1097942.0        799538153.0   \n",
      "4          17124581.0            415218.0        527707248.0   \n",
      "\n",
      "   Gaming UL (Bytes)  Other DL (Bytes)  Other UL (Bytes)  Total UL (Bytes)  \\\n",
      "0         14344150.0       171744450.0         8814393.0        36749741.0   \n",
      "1          1170709.0       526904238.0        15055145.0        53800391.0   \n",
      "2           395630.0       410692588.0         4215763.0        27883638.0   \n",
      "3         10849722.0       749039933.0        12797283.0        43324218.0   \n",
      "4          3529801.0       550709500.0        13910322.0        38542814.0   \n",
      "\n",
      "   Total DL (Bytes)  \n",
      "0       308879636.0  \n",
      "1       653384965.0  \n",
      "2       279807335.0  \n",
      "3       846028530.0  \n",
      "4       569138589.0  \n",
      "\n",
      "[5 rows x 55 columns]\n"
     ]
    }
   ],
   "source": [
    "import os\n",
    "from dotenv import load_dotenv\n",
    "from sqlalchemy import create_engine\n",
    "import pandas as pd\n",
    "\n",
    "# Load environment variables from .env file\n",
    "load_dotenv()\n",
    "\n",
    "# Get the database connection details from the environment\n",
    "db_name = os.getenv('DB_NAME')\n",
    "db_user = os.getenv('DB_USER')\n",
    "db_password = os.getenv('DB_PASSWORD')\n",
    "db_host = os.getenv('DB_HOST')\n",
    "db_port = os.getenv('DB_PORT')\n",
    "\n",
    "# Create the connection string\n",
    "connection_string = f\"postgresql://{db_user}:{db_password}@{db_host}:{db_port}/{db_name}\"\n",
    "\n",
    "# Create the engine\n",
    "engine = create_engine(connection_string)\n",
    "\n",
    "# Example query (modify as needed)\n",
    "df_engagement = pd.read_sql(\"SELECT * FROM user_engagement\", engine)\n",
    "df_experience = pd.read_sql(\"SELECT * FROM xdr_data\", engine)\n",
    "\n",
    "# Print the dataframes to confirm successful connection\n",
    "print(df_engagement.head())\n",
    "print(df_experience.head())\n"
   ]
  },
  {
   "cell_type": "code",
   "execution_count": 7,
   "id": "64f14d45-efa8-4165-8720-7d8f86032718",
   "metadata": {},
   "outputs": [
    {
     "name": "stdout",
     "output_type": "stream",
     "text": [
      "Cluster Summary:\n",
      "         engagement_score  experience_score\n",
      "cluster                                    \n",
      "0            3.068169e+08       5059.386922\n",
      "1            9.385327e+10       4388.218805\n"
     ]
    }
   ],
   "source": [
    "# Ensure data is loaded before proceeding\n",
    "if df_engagement is not None and df_experience is not None:\n",
    "    # Merge datasets on 'user_id' (make sure this key is available in both tables)\n",
    "    df_combined = pd.merge(df_engagement, df_experience, left_on='user_id', right_on='IMSI', how='inner')\n",
    "\n",
    "    # Calculate engagement and experience scores\n",
    "    df_combined['engagement_score'] = df_combined[['session_frequency', 'session_duration', 'total_traffic']].mean(axis=1)\n",
    "    df_combined['experience_score'] = df_combined[['Avg RTT DL (ms)', 'Avg Bearer TP DL (kbps)', 'Avg Bearer TP UL (kbps)']].mean(axis=1)\n",
    "\n",
    "    # Handle missing values (Option 1: Drop rows with missing values)\n",
    "    df_combined = df_combined.dropna(subset=['engagement_score', 'experience_score'])\n",
    "\n",
    "    # Perform KMeans clustering\n",
    "    X = df_combined[['engagement_score', 'experience_score']].values\n",
    "    kmeans = KMeans(n_clusters=2, random_state=0).fit(X)\n",
    "\n",
    "    # Assign cluster labels\n",
    "    df_combined['cluster'] = kmeans.labels_\n",
    "\n",
    "    # Cluster summary\n",
    "    cluster_summary = df_combined.groupby('cluster')[['engagement_score', 'experience_score']].mean()\n",
    "    print(\"Cluster Summary:\")\n",
    "    print(cluster_summary)\n",
    "\n",
    "    # Optionally, save the resulting dataframe back to your database\n",
    "    df_combined.to_sql('clustered_user_data', engine, if_exists='replace', index=False)\n",
    "\n",
    "else:\n",
    "    print(\"Failed to load data.\")"
   ]
  },
  {
   "cell_type": "code",
   "execution_count": null,
   "id": "e209ba4d-0142-4642-a58e-d1a805634137",
   "metadata": {},
   "outputs": [],
   "source": []
  },
  {
   "cell_type": "code",
   "execution_count": null,
   "id": "2aad522c-3dbb-4f30-876b-5dbc5994da17",
   "metadata": {},
   "outputs": [],
   "source": []
  }
 ],
 "metadata": {
  "kernelspec": {
   "display_name": "Python 3 (ipykernel)",
   "language": "python",
   "name": "python3"
  },
  "language_info": {
   "codemirror_mode": {
    "name": "ipython",
    "version": 3
   },
   "file_extension": ".py",
   "mimetype": "text/x-python",
   "name": "python",
   "nbconvert_exporter": "python",
   "pygments_lexer": "ipython3",
   "version": "3.12.3"
  }
 },
 "nbformat": 4,
 "nbformat_minor": 5
}
