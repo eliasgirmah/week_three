{
 "cells": [
  {
   "cell_type": "code",
   "execution_count": 1,
   "id": "b05f4abc-58b9-46b0-ba0d-150ff5952f28",
   "metadata": {},
   "outputs": [
    {
     "name": "stderr",
     "output_type": "stream",
     "text": [
      "C:\\Users\\user\\AppData\\Local\\Temp\\ipykernel_29288\\3877556814.py:5: DtypeWarning: Columns (10,11,18) have mixed types. Specify dtype option on import or set low_memory=False.\n",
      "  data = pd.read_csv('../data/cleaned_data.csv')\n"
     ]
    },
    {
     "name": "stdout",
     "output_type": "stream",
     "text": [
      "ANOVA Result for Risk Differences Across Provinces: p-value = 1.6782057588675906e-07\n",
      "T-test Result for Risk Differences Between Zip Codes: p-value = nan\n",
      "T-test Result for Margin Differences Between Zip Codes: p-value = nan\n",
      "T-test Result for Risk Differences Between Genders: p-value = 0.8041073961270343\n",
      "There is a significant risk difference across provinces (reject the null hypothesis).\n",
      "There is no significant risk difference between zip codes (fail to reject the null hypothesis).\n",
      "There is no significant margin (profit) difference between zip codes (fail to reject the null hypothesis).\n",
      "There is no significant risk difference between men and women (fail to reject the null hypothesis).\n"
     ]
    }
   ],
   "source": [
    "import pandas as pd\n",
    "from scipy import stats\n",
    "\n",
    "# Load the cleaned data\n",
    "data = pd.read_csv('../data/cleaned_data.csv')\n",
    "\n",
    "# 1. Hypothesis 1: Risk differences across provinces\n",
    "# KPI: Total Claims (as a proxy for risk)\n",
    "province_risk = data.groupby('Province')['TotalClaims'].mean()\n",
    "\n",
    "# Perform ANOVA test for differences across provinces\n",
    "anova_provinces = stats.f_oneway(*(data[data['Province'] == province]['TotalClaims'] for province in data['Province'].unique()))\n",
    "print(f\"ANOVA Result for Risk Differences Across Provinces: p-value = {anova_provinces.pvalue}\")\n",
    "\n",
    "# 2. Hypothesis 2: Risk differences between zip codes\n",
    "# KPI: Total Claims (risk)\n",
    "# We'll select two zip codes for A/B testing\n",
    "zip_code_A = 1234  # Replace with a relevant zip code from your dataset\n",
    "zip_code_B = 5678  # Replace with a different relevant zip code\n",
    "\n",
    "# Perform t-test for risk differences between zip codes\n",
    "ttest_zip_risk = stats.ttest_ind(data[data['PostalCode'] == zip_code_A]['TotalClaims'], data[data['PostalCode'] == zip_code_B]['TotalClaims'])\n",
    "print(f\"T-test Result for Risk Differences Between Zip Codes: p-value = {ttest_zip_risk.pvalue}\")\n",
    "\n",
    "# 3. Hypothesis 3: Margin (Profit) differences between zip codes\n",
    "# KPI: Profit = Total Premium - Total Claims\n",
    "data['Profit'] = data['TotalPremium'] - data['TotalClaims']\n",
    "\n",
    "# Perform t-test for margin (profit) differences between zip codes\n",
    "ttest_zip_margin = stats.ttest_ind(data[data['PostalCode'] == zip_code_A]['Profit'], data[data['PostalCode'] == zip_code_B]['Profit'])\n",
    "print(f\"T-test Result for Margin Differences Between Zip Codes: p-value = {ttest_zip_margin.pvalue}\")\n",
    "\n",
    "# 4. Hypothesis 4: Risk differences between women and men\n",
    "# KPI: Total Claims (risk)\n",
    "# Group by gender\n",
    "group_A = data[data['Gender'] == 'Male']['TotalClaims']\n",
    "group_B = data[data['Gender'] == 'Female']['TotalClaims']\n",
    "\n",
    "# Perform t-test for risk differences between genders\n",
    "ttest_gender_risk = stats.ttest_ind(group_A, group_B)\n",
    "print(f\"T-test Result for Risk Differences Between Genders: p-value = {ttest_gender_risk.pvalue}\")\n",
    "\n",
    "# Reporting Results\n",
    "if anova_provinces.pvalue < 0.05:\n",
    "    print(\"There is a significant risk difference across provinces (reject the null hypothesis).\")\n",
    "else:\n",
    "    print(\"There is no significant risk difference across provinces (fail to reject the null hypothesis).\")\n",
    "\n",
    "if ttest_zip_risk.pvalue < 0.05:\n",
    "    print(\"There is a significant risk difference between zip codes (reject the null hypothesis).\")\n",
    "else:\n",
    "    print(\"There is no significant risk difference between zip codes (fail to reject the null hypothesis).\")\n",
    "\n",
    "if ttest_zip_margin.pvalue < 0.05:\n",
    "    print(\"There is a significant margin (profit) difference between zip codes (reject the null hypothesis).\")\n",
    "else:\n",
    "    print(\"There is no significant margin (profit) difference between zip codes (fail to reject the null hypothesis).\")\n",
    "\n",
    "if ttest_gender_risk.pvalue < 0.05:\n",
    "    print(\"There is a significant risk difference between men and women (reject the null hypothesis).\")\n",
    "else:\n",
    "    print(\"There is no significant risk difference between men and women (fail to reject the null hypothesis).\")\n"
   ]
  },
  {
   "cell_type": "code",
   "execution_count": null,
   "id": "da439734-1a9e-4cb6-8f75-670e78f8a901",
   "metadata": {},
   "outputs": [],
   "source": []
  }
 ],
 "metadata": {
  "kernelspec": {
   "display_name": "Python 3 (ipykernel)",
   "language": "python",
   "name": "python3"
  },
  "language_info": {
   "codemirror_mode": {
    "name": "ipython",
    "version": 3
   },
   "file_extension": ".py",
   "mimetype": "text/x-python",
   "name": "python",
   "nbconvert_exporter": "python",
   "pygments_lexer": "ipython3",
   "version": "3.12.3"
  }
 },
 "nbformat": 4,
 "nbformat_minor": 5
}
