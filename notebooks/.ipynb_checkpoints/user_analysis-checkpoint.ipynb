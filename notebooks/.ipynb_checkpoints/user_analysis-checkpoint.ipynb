{
 "cells": [
  {
   "cell_type": "code",
   "execution_count": 2,
   "id": "4bcee0f0-0220-4028-8b06-e1712b42b7d3",
   "metadata": {},
   "outputs": [
    {
     "name": "stdout",
     "output_type": "stream",
     "text": [
      "Fetching the top 10 handsets used by customers...\n",
      "\n",
      "                   Handset Type  usage_count\n",
      "0              Huawei B528S-23A        19752\n",
      "1       Apple iPhone 6S (A1688)         9419\n",
      "2        Apple iPhone 6 (A1586)         9023\n",
      "3                     undefined         8987\n",
      "4        Apple iPhone 7 (A1778)         6326\n",
      "5       Apple iPhone Se (A1723)         5187\n",
      "6        Apple iPhone 8 (A1905)         4993\n",
      "7       Apple iPhone Xr (A2105)         4568\n",
      "8  Samsung Galaxy S8 (Sm-G950F)         4520\n",
      "9        Apple iPhone X (A1901)         3813\n",
      "\n",
      "Fetching the top 3 handset manufacturers...\n",
      "\n"
     ]
    },
    {
     "name": "stderr",
     "output_type": "stream",
     "text": [
      "C:\\Users\\user\\Documents\\10acadamy\\week3\\scripts\\load_data.py:38: UserWarning: pandas only supports SQLAlchemy connectable (engine/connection) or database string URI or sqlite3 DBAPI2 connection. Other DBAPI2 objects are not tested. Please consider using SQLAlchemy.\n",
      "  df = pd.read_sql_query(query, connection)\n",
      "C:\\Users\\user\\Documents\\10acadamy\\week3\\scripts\\load_data.py:38: UserWarning: pandas only supports SQLAlchemy connectable (engine/connection) or database string URI or sqlite3 DBAPI2 connection. Other DBAPI2 objects are not tested. Please consider using SQLAlchemy.\n",
      "  df = pd.read_sql_query(query, connection)\n"
     ]
    },
    {
     "name": "stdout",
     "output_type": "stream",
     "text": [
      "  Handset Manufacturer  usage_count\n",
      "0                Apple        59565\n",
      "1              Samsung        40839\n",
      "2               Huawei        34423\n",
      "\n",
      "Fetching the top 5 handsets per top 3 manufacturers...\n",
      "\n"
     ]
    },
    {
     "name": "stderr",
     "output_type": "stream",
     "text": [
      "C:\\Users\\user\\Documents\\10acadamy\\week3\\scripts\\load_data.py:38: UserWarning: pandas only supports SQLAlchemy connectable (engine/connection) or database string URI or sqlite3 DBAPI2 connection. Other DBAPI2 objects are not tested. Please consider using SQLAlchemy.\n",
      "  df = pd.read_sql_query(query, connection)\n"
     ]
    },
    {
     "name": "stdout",
     "output_type": "stream",
     "text": [
      "  Handset Manufacturer             Handset Type  usage_count\n",
      "0                Apple  Apple iPhone 6S (A1688)         9419\n",
      "1                Apple   Apple iPhone 6 (A1586)         9023\n",
      "2                Apple   Apple iPhone 7 (A1778)         6326\n",
      "3                Apple  Apple iPhone Se (A1723)         5187\n",
      "4                Apple   Apple iPhone 8 (A1905)         4993\n",
      "\n",
      "Aggregating user data (sessions, duration, download/upload data)...\n",
      "\n"
     ]
    },
    {
     "name": "stderr",
     "output_type": "stream",
     "text": [
      "C:\\Users\\user\\Documents\\10acadamy\\week3\\scripts\\load_data.py:38: UserWarning: pandas only supports SQLAlchemy connectable (engine/connection) or database string URI or sqlite3 DBAPI2 connection. Other DBAPI2 objects are not tested. Please consider using SQLAlchemy.\n",
      "  df = pd.read_sql_query(query, connection)\n"
     ]
    },
    {
     "name": "stdout",
     "output_type": "stream",
     "text": [
      "            user_id   num_sessions  total_duration  total_download  \\\n",
      "count  1.068560e+05  106857.000000    1.068570e+05    1.068570e+05   \n",
      "mean   4.511474e+10       1.394480    1.468438e+05    6.382035e+08   \n",
      "std    2.889423e+12       1.737797    2.892198e+05    1.558474e+09   \n",
      "min    3.360100e+10       0.000000    7.142000e+03    8.827082e+06   \n",
      "25%    3.365088e+10       1.000000    7.130900e+04    3.148302e+08   \n",
      "50%    3.366365e+10       1.000000    1.027410e+05    5.703713e+08   \n",
      "75%    3.368344e+10       2.000000    1.727990e+05    8.073701e+08   \n",
      "max    8.823971e+14     504.000000    7.244640e+07    4.869236e+11   \n",
      "\n",
      "       total_upload  social_media_data   google_data    email_data  \\\n",
      "count  1.068570e+05       1.068570e+05  1.068570e+05  1.068570e+05   \n",
      "mean   5.772370e+07       2.520191e+06  8.072645e+06  2.515148e+06   \n",
      "std    1.400375e+08       6.213715e+06  1.933071e+07  6.118615e+06   \n",
      "min    2.866892e+06       1.200000e+01  2.070000e+02  9.700000e+01   \n",
      "25%    3.639554e+07       1.175914e+06  3.802905e+06  1.184547e+06   \n",
      "50%    4.679434e+07       2.265021e+06  7.256793e+06  2.266287e+06   \n",
      "75%    6.573376e+07       3.267294e+06  1.043126e+07  3.250652e+06   \n",
      "max    4.432530e+10       1.937715e+09  6.007942e+09  1.904048e+09   \n",
      "\n",
      "       youtube_data  netflix_data   gaming_data    other_data  \n",
      "count  1.068570e+05  1.068570e+05  1.068570e+05  1.068570e+05  \n",
      "mean   1.633138e+07  1.632125e+07  5.924472e+08  5.911218e+08  \n",
      "std    4.011289e+07  3.951288e+07  1.452730e+09  1.421185e+09  \n",
      "min    5.300000e+01  4.200000e+01  2.516000e+03  3.290000e+03  \n",
      "25%    7.647171e+06  7.593583e+06  2.793268e+08  2.767791e+08  \n",
      "50%    1.460566e+07  1.464004e+07  5.325210e+08  5.299499e+08  \n",
      "75%    2.112912e+07  2.113474e+07  7.669570e+08  7.653670e+08  \n",
      "max    1.249464e+10  1.228898e+10  4.527450e+11  4.419283e+11  \n",
      "\n",
      "Preview of aggregated user data:\n",
      "\n",
      "        user_id  num_sessions  total_duration  total_download  total_upload  \\\n",
      "0  3.360100e+10             1        116720.0    8.426375e+08    36053108.0   \n",
      "1  3.360100e+10             1        181230.0    1.207552e+08    36104459.0   \n",
      "2  3.360100e+10             1        134969.0    5.566597e+08    39306820.0   \n",
      "3  3.360101e+10             1         49878.0    4.019932e+08    20327526.0   \n",
      "4  3.360101e+10             2         37104.0    1.363130e+09    94280527.0   \n",
      "\n",
      "   social_media_data  google_data  email_data  youtube_data  netflix_data  \\\n",
      "0          2206504.0    3337123.0    837400.0    14900201.0    10265105.0   \n",
      "1          2598548.0    4197697.0   2828821.0     5324251.0      770569.0   \n",
      "2          3148004.0    3343483.0   2436500.0     2137272.0    16525919.0   \n",
      "3           251469.0    5937765.0   2178618.0     4393123.0     1157362.0   \n",
      "4          2861230.0   13728668.0   2247808.0    10339971.0    24971647.0   \n",
      "\n",
      "    gaming_data   other_data  \n",
      "0  8.110911e+08  377096990.0  \n",
      "1  1.050353e+08  279557701.0  \n",
      "2  5.290685e+08  495086501.0  \n",
      "3  3.880748e+08   25248001.0  \n",
      "4  1.308981e+09  777643713.0  \n",
      "\n",
      "Data saved successfully to the output folder.\n"
     ]
    }
   ],
   "source": [
    "# Import necessary libraries and functions\n",
    "import sys\n",
    "import os\n",
    "import pandas as pd\n",
    "\n",
    "# Add the 'src' and 'scripts' folders to the Python path\n",
    "sys.path.append(os.path.abspath(os.path.join(os.getcwd(), '../src')))\n",
    "sys.path.append(os.path.abspath(os.path.join(os.getcwd(), '../scripts')))\n",
    "\n",
    "# Now import your functions\n",
    "from user_analysis import (\n",
    "    get_top_10_handsets, \n",
    "    get_top_3_manufacturers, \n",
    "    get_top_5_handsets_per_manufacturer, \n",
    "    aggregate_user_data\n",
    ")\n",
    "\n",
    "# Step 1: Get Top 10 Handsets\n",
    "print(\"Fetching the top 10 handsets used by customers...\\n\")\n",
    "df_handsets = get_top_10_handsets()\n",
    "print(df_handsets)\n",
    "\n",
    "# Step 2: Get Top 3 Handset Manufacturers\n",
    "print(\"\\nFetching the top 3 handset manufacturers...\\n\")\n",
    "df_manufacturers = get_top_3_manufacturers()\n",
    "print(df_manufacturers)\n",
    "\n",
    "# Step 3: Get Top 5 Handsets per Top 3 Manufacturers\n",
    "print(\"\\nFetching the top 5 handsets per top 3 manufacturers...\\n\")\n",
    "df_top_handsets_per_manufacturer = get_top_5_handsets_per_manufacturer()\n",
    "print(df_top_handsets_per_manufacturer)\n",
    "\n",
    "# Step 4: Aggregate User Data\n",
    "print(\"\\nAggregating user data (sessions, duration, download/upload data)...\\n\")\n",
    "df_user_aggregates = aggregate_user_data()\n",
    "print(df_user_aggregates.describe())\n",
    "\n",
    "# Optional: Display the top records for a preview\n",
    "print(\"\\nPreview of aggregated user data:\\n\")\n",
    "print(df_user_aggregates.head())\n",
    "\n",
    "# Optional: Save the results to a CSV file for further analysis\n",
    "output_path = os.path.abspath(os.path.join(os.getcwd(), '../output'))\n",
    "if not os.path.exists(output_path):\n",
    "    os.makedirs(output_path)\n",
    "\n",
    "df_handsets.to_csv(os.path.join(output_path, 'top_10_handsets.csv'), index=False)\n",
    "df_manufacturers.to_csv(os.path.join(output_path, 'top_3_manufacturers.csv'), index=False)\n",
    "df_top_handsets_per_manufacturer.to_csv(os.path.join(output_path, 'top_5_handsets_per_manufacturer.csv'), index=False)\n",
    "df_user_aggregates.to_csv(os.path.join(output_path, 'user_aggregates.csv'), index=False)\n",
    "\n",
    "print(\"\\nData saved successfully to the output folder.\")\n"
   ]
  },
  {
   "cell_type": "code",
   "execution_count": null,
   "id": "76a9ea08-184d-4fa9-be0a-1aac171e2ffb",
   "metadata": {},
   "outputs": [],
   "source": []
  }
 ],
 "metadata": {
  "kernelspec": {
   "display_name": "Python 3 (ipykernel)",
   "language": "python",
   "name": "python3"
  },
  "language_info": {
   "codemirror_mode": {
    "name": "ipython",
    "version": 3
   },
   "file_extension": ".py",
   "mimetype": "text/x-python",
   "name": "python",
   "nbconvert_exporter": "python",
   "pygments_lexer": "ipython3",
   "version": "3.12.3"
  }
 },
 "nbformat": 4,
 "nbformat_minor": 5
}
